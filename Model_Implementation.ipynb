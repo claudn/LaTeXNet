{
  "nbformat": 4,
  "nbformat_minor": 0,
  "metadata": {
    "colab": {
      "name": "Model Implementation.ipynb",
      "provenance": [],
      "collapsed_sections": [
        "vxQwYckqZrql",
        "qGqFgYGLd3tV",
        "y2TsVNTZd9JY",
        "xDZ698Htdy6H",
        "wKMhKEisxn80",
        "5MFsMM6ijURU",
        "Y3WSs-oB0TVx",
        "fOmo0_I8AeY7"
      ],
      "toc_visible": true
    },
    "kernelspec": {
      "name": "python3",
      "display_name": "Python 3"
    },
    "accelerator": "GPU"
  },
  "cells": [
    {
      "cell_type": "markdown",
      "metadata": {
        "id": "vxQwYckqZrql",
        "colab_type": "text"
      },
      "source": [
        "# Importing data"
      ]
    },
    {
      "cell_type": "code",
      "metadata": {
        "id": "oP45QymGZT8a",
        "colab_type": "code",
        "colab": {}
      },
      "source": [
        "# install kaggle to access dataset\n",
        "!pip install kaggle"
      ],
      "execution_count": null,
      "outputs": []
    },
    {
      "cell_type": "code",
      "metadata": {
        "id": "vSbIc1cUaRxb",
        "colab_type": "code",
        "colab": {
          "base_uri": "https://localhost:8080/",
          "height": 34
        },
        "outputId": "ee16c59e-ce38-4c44-8dd0-033b6b64a8eb"
      },
      "source": [
        "# enable kaggle API\n",
        "# note: you NEED to have your kaggle token saved in drive for this to work (https://github.com/Kaggle/kaggle-api)\n",
        "from googleapiclient.discovery import build\n",
        "import io, os\n",
        "from googleapiclient.http import MediaIoBaseDownload\n",
        "from google.colab import auth\n",
        "auth.authenticate_user()\n",
        "drive_service = build('drive', 'v3')\n",
        "results = drive_service.files().list(\n",
        "        q=\"name = 'kaggle.json'\", fields=\"files(id)\").execute()\n",
        "kaggle_api_key = results.get('files', [])\n",
        "filename = \"/root/.kaggle/kaggle.json\"\n",
        "os.makedirs(os.path.dirname(filename), exist_ok=True)\n",
        "request = drive_service.files().get_media(fileId=kaggle_api_key[0]['id'])\n",
        "fh = io.FileIO(filename, 'wb')\n",
        "downloader = MediaIoBaseDownload(fh, request)\n",
        "done = False\n",
        "while done is False:\n",
        "    status, done = downloader.next_chunk()\n",
        "    print(\"Download %d%%.\" % int(status.progress() * 100))\n",
        "os.chmod(filename, 600)"
      ],
      "execution_count": null,
      "outputs": [
        {
          "output_type": "stream",
          "text": [
            "Download 100%.\n"
          ],
          "name": "stdout"
        }
      ]
    },
    {
      "cell_type": "code",
      "metadata": {
        "id": "r3eOxUnabGkh",
        "colab_type": "code",
        "colab": {}
      },
      "source": [
        " from kaggle.api.kaggle_api_extended import KaggleApi\n",
        " api = KaggleApi()\n",
        " api.authenticate()"
      ],
      "execution_count": null,
      "outputs": []
    },
    {
      "cell_type": "code",
      "metadata": {
        "id": "OrNOkyUsdr9R",
        "colab_type": "code",
        "colab": {}
      },
      "source": [
        "# download HASYV2 dataset\n",
        "api.dataset_download_files('guru001/hasyv2')"
      ],
      "execution_count": null,
      "outputs": []
    },
    {
      "cell_type": "code",
      "metadata": {
        "id": "t22tbiRHd67E",
        "colab_type": "code",
        "colab": {}
      },
      "source": [
        "# unzip data\n",
        "!unzip hasyv2.zip"
      ],
      "execution_count": null,
      "outputs": []
    },
    {
      "cell_type": "markdown",
      "metadata": {
        "colab_type": "text",
        "id": "qGqFgYGLd3tV"
      },
      "source": [
        "# Resample Data"
      ]
    },
    {
      "cell_type": "code",
      "metadata": {
        "id": "MldeMSYvxr3N",
        "colab_type": "code",
        "colab": {}
      },
      "source": [
        "imgs_path = 'hasyv2/'\n",
        "labels_path = 'hasyv2/hasy-data-labels.csv'"
      ],
      "execution_count": null,
      "outputs": []
    },
    {
      "cell_type": "code",
      "metadata": {
        "id": "GfgnF43q3Y98",
        "colab_type": "code",
        "colab": {}
      },
      "source": [
        "from sklearn.utils import resample\n",
        "import pandas as pd\n",
        "from PIL import Image\n",
        "import pandas as pd\n",
        "import matplotlib.pyplot as plt\n",
        "from torch.utils.data import Dataset\n",
        "import torch\n",
        "import torchvision.transforms as transforms\n",
        "import numpy as np\n",
        "from torch import nn"
      ],
      "execution_count": null,
      "outputs": []
    },
    {
      "cell_type": "code",
      "metadata": {
        "id": "qV8hciGJgox9",
        "colab_type": "code",
        "colab": {}
      },
      "source": [
        "# balance original classes in dataset\n",
        "# overwrite the original csv\n",
        "old_data = pd.read_csv(labels_path, sep=',', index_col=0)"
      ],
      "execution_count": null,
      "outputs": []
    },
    {
      "cell_type": "code",
      "metadata": {
        "id": "hXSykUkExwSy",
        "colab_type": "code",
        "colab": {}
      },
      "source": [
        "cnts = old_data['latex'].value_counts()\n",
        "\n",
        "values = []\n",
        "indices = []\n",
        "# remove axes\n",
        "np.average(cnts.values)\n",
        "# resample every one so that there are at least 700 samples of each\n",
        "for idx in cnts.index:\n",
        "  if cnts[idx] < 700:\n",
        "    vals = np.concatenate((resample(old_data[old_data['latex']==idx], n_samples = 700-cnts[idx], random_state=123).values, old_data[old_data['latex']==idx].values))\n",
        "    filenames = resample(old_data[old_data['latex']==idx], n_samples = 700-cnts[idx], random_state=123).append(old_data[old_data['latex']==idx]).index\n",
        "\n",
        "  else:\n",
        "    vals = resample(old_data[old_data['latex']==idx], n_samples = 700, random_state=123, replace=False).values\n",
        "    filenames = resample(old_data[old_data['latex']==idx], n_samples = 700, random_state=123, replace=False).index\n",
        "\n",
        "  for val in vals:\n",
        "    values.append(val)\n",
        "  for name in filenames:\n",
        "    indices.append(name)\n",
        "\n",
        "resampled_data = pd.DataFrame(values, index=indices, columns=['symbol_id', 'latex', 'user_id'])\n",
        "# overwrite the old .csv file"
      ],
      "execution_count": null,
      "outputs": []
    },
    {
      "cell_type": "code",
      "metadata": {
        "id": "vGSqMqrwFFPy",
        "colab_type": "code",
        "colab": {}
      },
      "source": [
        "remove = [\n",
        "'\\\\bowtie',\n",
        "'\\\\|',\n",
        "'\\\\bot',\n",
        "'\\\\amalg',\n",
        "'|',\n",
        "'\\\\prod',\n",
        "'\\\\dotsc',\n",
        "'\\\\ohm',\n",
        "'\\\\sum',\n",
        "'\\\\S',\n",
        "'\\\\varpropto',\n",
        "'\\\\with',\n",
        "'\\\\checked',\n",
        "'\\\\setminus',\n",
        "'\\\\shortrightarrow',\n",
        "'\\\\longrightarrow',\n",
        "'\\\\Longrightarrow',\n",
        "'\\\\Longleftrightarrow',\n",
        "'\\\\male',\n",
        "'\\\\female',\n",
        "'\\\\vartriangle']"
      ],
      "execution_count": null,
      "outputs": []
    },
    {
      "cell_type": "code",
      "metadata": {
        "id": "-QSsoJKAF1lV",
        "colab_type": "code",
        "colab": {
          "base_uri": "https://localhost:8080/",
          "height": 406
        },
        "outputId": "093cda88-d2f1-48e1-eb95-0ccfe4d89df9"
      },
      "source": [
        "resampled_data"
      ],
      "execution_count": null,
      "outputs": [
        {
          "output_type": "execute_result",
          "data": {
            "text/html": [
              "<div>\n",
              "<style scoped>\n",
              "    .dataframe tbody tr th:only-of-type {\n",
              "        vertical-align: middle;\n",
              "    }\n",
              "\n",
              "    .dataframe tbody tr th {\n",
              "        vertical-align: top;\n",
              "    }\n",
              "\n",
              "    .dataframe thead th {\n",
              "        text-align: right;\n",
              "    }\n",
              "</style>\n",
              "<table border=\"1\" class=\"dataframe\">\n",
              "  <thead>\n",
              "    <tr style=\"text-align: right;\">\n",
              "      <th></th>\n",
              "      <th>symbol_id</th>\n",
              "      <th>latex</th>\n",
              "      <th>user_id</th>\n",
              "    </tr>\n",
              "  </thead>\n",
              "  <tbody>\n",
              "    <tr>\n",
              "      <th>hasy-data/v2-56668.png</th>\n",
              "      <td>183</td>\n",
              "      <td>\\int</td>\n",
              "      <td>16925</td>\n",
              "    </tr>\n",
              "    <tr>\n",
              "      <th>hasy-data/v2-56071.png</th>\n",
              "      <td>183</td>\n",
              "      <td>\\int</td>\n",
              "      <td>16925</td>\n",
              "    </tr>\n",
              "    <tr>\n",
              "      <th>hasy-data/v2-58513.png</th>\n",
              "      <td>183</td>\n",
              "      <td>\\int</td>\n",
              "      <td>16925</td>\n",
              "    </tr>\n",
              "    <tr>\n",
              "      <th>hasy-data/v2-55758.png</th>\n",
              "      <td>183</td>\n",
              "      <td>\\int</td>\n",
              "      <td>16925</td>\n",
              "    </tr>\n",
              "    <tr>\n",
              "      <th>hasy-data/v2-57689.png</th>\n",
              "      <td>183</td>\n",
              "      <td>\\int</td>\n",
              "      <td>16925</td>\n",
              "    </tr>\n",
              "    <tr>\n",
              "      <th>...</th>\n",
              "      <td>...</td>\n",
              "      <td>...</td>\n",
              "      <td>...</td>\n",
              "    </tr>\n",
              "    <tr>\n",
              "      <th>hasy-data/v2-165930.png</th>\n",
              "      <td>1315</td>\n",
              "      <td>\\mathbb{N}</td>\n",
              "      <td>10</td>\n",
              "    </tr>\n",
              "    <tr>\n",
              "      <th>hasy-data/v2-165931.png</th>\n",
              "      <td>1315</td>\n",
              "      <td>\\mathbb{N}</td>\n",
              "      <td>10</td>\n",
              "    </tr>\n",
              "    <tr>\n",
              "      <th>hasy-data/v2-165932.png</th>\n",
              "      <td>1315</td>\n",
              "      <td>\\mathbb{N}</td>\n",
              "      <td>10</td>\n",
              "    </tr>\n",
              "    <tr>\n",
              "      <th>hasy-data/v2-165933.png</th>\n",
              "      <td>1315</td>\n",
              "      <td>\\mathbb{N}</td>\n",
              "      <td>10</td>\n",
              "    </tr>\n",
              "    <tr>\n",
              "      <th>hasy-data/v2-165934.png</th>\n",
              "      <td>1315</td>\n",
              "      <td>\\mathbb{N}</td>\n",
              "      <td>10</td>\n",
              "    </tr>\n",
              "  </tbody>\n",
              "</table>\n",
              "<p>258300 rows × 3 columns</p>\n",
              "</div>"
            ],
            "text/plain": [
              "                         symbol_id       latex  user_id\n",
              "hasy-data/v2-56668.png         183        \\int    16925\n",
              "hasy-data/v2-56071.png         183        \\int    16925\n",
              "hasy-data/v2-58513.png         183        \\int    16925\n",
              "hasy-data/v2-55758.png         183        \\int    16925\n",
              "hasy-data/v2-57689.png         183        \\int    16925\n",
              "...                            ...         ...      ...\n",
              "hasy-data/v2-165930.png       1315  \\mathbb{N}       10\n",
              "hasy-data/v2-165931.png       1315  \\mathbb{N}       10\n",
              "hasy-data/v2-165932.png       1315  \\mathbb{N}       10\n",
              "hasy-data/v2-165933.png       1315  \\mathbb{N}       10\n",
              "hasy-data/v2-165934.png       1315  \\mathbb{N}       10\n",
              "\n",
              "[258300 rows x 3 columns]"
            ]
          },
          "metadata": {
            "tags": []
          },
          "execution_count": 59
        }
      ]
    },
    {
      "cell_type": "code",
      "metadata": {
        "id": "00Me9nL4Fepo",
        "colab_type": "code",
        "colab": {}
      },
      "source": [
        "resampled_data_new = resampled_data[~resampled_data.latex.isin(remove)]"
      ],
      "execution_count": null,
      "outputs": []
    },
    {
      "cell_type": "code",
      "metadata": {
        "id": "JXm-BZazGGJY",
        "colab_type": "code",
        "colab": {
          "base_uri": "https://localhost:8080/",
          "height": 406
        },
        "outputId": "02a3041e-99c2-4fe5-c2d4-41fb69daabf2"
      },
      "source": [
        "resampled_data_new"
      ],
      "execution_count": null,
      "outputs": [
        {
          "output_type": "execute_result",
          "data": {
            "text/html": [
              "<div>\n",
              "<style scoped>\n",
              "    .dataframe tbody tr th:only-of-type {\n",
              "        vertical-align: middle;\n",
              "    }\n",
              "\n",
              "    .dataframe tbody tr th {\n",
              "        vertical-align: top;\n",
              "    }\n",
              "\n",
              "    .dataframe thead th {\n",
              "        text-align: right;\n",
              "    }\n",
              "</style>\n",
              "<table border=\"1\" class=\"dataframe\">\n",
              "  <thead>\n",
              "    <tr style=\"text-align: right;\">\n",
              "      <th></th>\n",
              "      <th>symbol_id</th>\n",
              "      <th>latex</th>\n",
              "      <th>user_id</th>\n",
              "    </tr>\n",
              "  </thead>\n",
              "  <tbody>\n",
              "    <tr>\n",
              "      <th>hasy-data/v2-56668.png</th>\n",
              "      <td>183</td>\n",
              "      <td>\\int</td>\n",
              "      <td>16925</td>\n",
              "    </tr>\n",
              "    <tr>\n",
              "      <th>hasy-data/v2-56071.png</th>\n",
              "      <td>183</td>\n",
              "      <td>\\int</td>\n",
              "      <td>16925</td>\n",
              "    </tr>\n",
              "    <tr>\n",
              "      <th>hasy-data/v2-58513.png</th>\n",
              "      <td>183</td>\n",
              "      <td>\\int</td>\n",
              "      <td>16925</td>\n",
              "    </tr>\n",
              "    <tr>\n",
              "      <th>hasy-data/v2-55758.png</th>\n",
              "      <td>183</td>\n",
              "      <td>\\int</td>\n",
              "      <td>16925</td>\n",
              "    </tr>\n",
              "    <tr>\n",
              "      <th>hasy-data/v2-57689.png</th>\n",
              "      <td>183</td>\n",
              "      <td>\\int</td>\n",
              "      <td>16925</td>\n",
              "    </tr>\n",
              "    <tr>\n",
              "      <th>...</th>\n",
              "      <td>...</td>\n",
              "      <td>...</td>\n",
              "      <td>...</td>\n",
              "    </tr>\n",
              "    <tr>\n",
              "      <th>hasy-data/v2-165930.png</th>\n",
              "      <td>1315</td>\n",
              "      <td>\\mathbb{N}</td>\n",
              "      <td>10</td>\n",
              "    </tr>\n",
              "    <tr>\n",
              "      <th>hasy-data/v2-165931.png</th>\n",
              "      <td>1315</td>\n",
              "      <td>\\mathbb{N}</td>\n",
              "      <td>10</td>\n",
              "    </tr>\n",
              "    <tr>\n",
              "      <th>hasy-data/v2-165932.png</th>\n",
              "      <td>1315</td>\n",
              "      <td>\\mathbb{N}</td>\n",
              "      <td>10</td>\n",
              "    </tr>\n",
              "    <tr>\n",
              "      <th>hasy-data/v2-165933.png</th>\n",
              "      <td>1315</td>\n",
              "      <td>\\mathbb{N}</td>\n",
              "      <td>10</td>\n",
              "    </tr>\n",
              "    <tr>\n",
              "      <th>hasy-data/v2-165934.png</th>\n",
              "      <td>1315</td>\n",
              "      <td>\\mathbb{N}</td>\n",
              "      <td>10</td>\n",
              "    </tr>\n",
              "  </tbody>\n",
              "</table>\n",
              "<p>243600 rows × 3 columns</p>\n",
              "</div>"
            ],
            "text/plain": [
              "                         symbol_id       latex  user_id\n",
              "hasy-data/v2-56668.png         183        \\int    16925\n",
              "hasy-data/v2-56071.png         183        \\int    16925\n",
              "hasy-data/v2-58513.png         183        \\int    16925\n",
              "hasy-data/v2-55758.png         183        \\int    16925\n",
              "hasy-data/v2-57689.png         183        \\int    16925\n",
              "...                            ...         ...      ...\n",
              "hasy-data/v2-165930.png       1315  \\mathbb{N}       10\n",
              "hasy-data/v2-165931.png       1315  \\mathbb{N}       10\n",
              "hasy-data/v2-165932.png       1315  \\mathbb{N}       10\n",
              "hasy-data/v2-165933.png       1315  \\mathbb{N}       10\n",
              "hasy-data/v2-165934.png       1315  \\mathbb{N}       10\n",
              "\n",
              "[243600 rows x 3 columns]"
            ]
          },
          "metadata": {
            "tags": []
          },
          "execution_count": 61
        }
      ]
    },
    {
      "cell_type": "code",
      "metadata": {
        "id": "ZGvhY0J5FXT2",
        "colab_type": "code",
        "colab": {
          "base_uri": "https://localhost:8080/",
          "height": 34
        },
        "outputId": "a00f46d5-1132-4155-b952-155b30ade8c5"
      },
      "source": [
        "len(remove)"
      ],
      "execution_count": null,
      "outputs": [
        {
          "output_type": "execute_result",
          "data": {
            "text/plain": [
              "21"
            ]
          },
          "metadata": {
            "tags": []
          },
          "execution_count": 62
        }
      ]
    },
    {
      "cell_type": "code",
      "metadata": {
        "id": "y3m1YOve7ueV",
        "colab_type": "code",
        "colab": {}
      },
      "source": [
        "all_data =  resampled_data_new\n",
        "\n",
        "# all_data\n",
        "\n",
        "# save this to a new csv\n",
        "labels_path = 'hasyv2/augmented_data.csv'\n",
        "all_data.to_csv(labels_path)"
      ],
      "execution_count": null,
      "outputs": []
    },
    {
      "cell_type": "code",
      "metadata": {
        "id": "PoT6CpZssqHm",
        "colab_type": "code",
        "colab": {}
      },
      "source": [
        "data = pd.read_csv(labels_path, sep=',', index_col=0)"
      ],
      "execution_count": null,
      "outputs": []
    },
    {
      "cell_type": "markdown",
      "metadata": {
        "id": "y2TsVNTZd9JY",
        "colab_type": "text"
      },
      "source": [
        "# Symbols Dataset"
      ]
    },
    {
      "cell_type": "code",
      "metadata": {
        "id": "XzJJsIgUd8js",
        "colab_type": "code",
        "colab": {}
      },
      "source": [
        "from sklearn.utils import resample\n",
        "import pandas as pd\n",
        "from PIL import Image\n",
        "import pandas as pd\n",
        "import matplotlib.pyplot as plt\n",
        "from torch.utils.data import Dataset\n",
        "import torch\n",
        "import torchvision.transforms as transforms\n",
        "import numpy as np\n",
        "from torch import nn\n",
        "# creating own DatasetClass (this is like an ImageFolder, except custom so that we don't have to arrange images in a directory by label)\n",
        "class SymbolsDataset(Dataset):\n",
        "    def __init__(self, labels_path, imgs_path, indices):\n",
        "        \"\"\"\n",
        "        Initialize data set as a list of IDs corresponding to each item of data set\n",
        "        :param img_dir: path to image files as a uncompressed tar archive\n",
        "        :param txt_path: a text file containing names of all of images line by line\n",
        "        \"\"\"\n",
        "        # Read in the dataframe\n",
        "        data = pd.read_csv(labels_path, sep=',', index_col=0)\n",
        "        \n",
        "        # Convert the column into a list\n",
        "        master_list = []\n",
        "        for i in range(data.shape[0]):\n",
        "          master_list.append(data.iloc[i, 1])\n",
        "\n",
        "        # Extract just the unique values (i.e. the set)\n",
        "        unique = np.unique(master_list)\n",
        "\n",
        "        # Create a mapping between each symbol and an ID in [0,...,368]\n",
        "        dict_id = {}\n",
        "        i = 0\n",
        "        for symbol in unique:\n",
        "          dict_id[symbol] = i\n",
        "          i = i + 1\n",
        "\n",
        "        # Add an class_id column to represent the class for each\n",
        "        data[\"class_id\"] = 0\n",
        "\n",
        "        # Iterate through the dataframe and add in the new id\n",
        "        for i in range(data.shape[0]):\n",
        "          data.iloc[i, 3] = dict_id[data.iloc[i, 1]]\n",
        "\n",
        "        # Finally, declare self.df\n",
        "        self.df = data.iloc[indices,:] # use data, but only at relevant indices to either train/test/validate\n",
        "        self.img_names = self.df.index.values\n",
        "        self.labels_path = labels_path\n",
        "        self.imgs_path = imgs_path\n",
        "        self.transform = transforms.Compose([transforms.ToTensor()])\n",
        "\n",
        "    def get_image_from_folder(self, name):\n",
        "        \"\"\"\n",
        "        gets a image by a name gathered from file list text file\n",
        "        :param name: name of targeted image\n",
        "        :return: a PIL image\n",
        "        \"\"\"\n",
        "        image = Image.open(os.path.join(self.imgs_path, name))\n",
        "        return image\n",
        "\n",
        "    def __len__(self):\n",
        "        \"\"\"\n",
        "        Return the length of data set using list of IDs\n",
        "        :return: number of samples in data set\n",
        "        \"\"\"\n",
        "        return len(self.img_names)\n",
        "\n",
        "    def __getitem__(self, index):\n",
        "        \"\"\"\n",
        "        Generate one item of data set. \n",
        "        \"\"\"\n",
        "        img = self.get_image_from_folder(self.img_names[index])\n",
        "        img = img.convert('L') \n",
        "        img = self.transform(img)\n",
        "        #img = np.squeeze(img)\n",
        "        #lbl = self.df.iloc[index][1]\n",
        "        lbl = torch.tensor(self.df.iloc[index][3])\n",
        "\n",
        "        return (img, lbl)"
      ],
      "execution_count": null,
      "outputs": []
    },
    {
      "cell_type": "markdown",
      "metadata": {
        "id": "xDZ698Htdy6H",
        "colab_type": "text"
      },
      "source": [
        "# Expressions Dataset"
      ]
    },
    {
      "cell_type": "code",
      "metadata": {
        "id": "g-pDlK4YVFPP",
        "colab_type": "code",
        "colab": {}
      },
      "source": [
        "from PIL import Image\n",
        "import pandas as pd\n",
        "import matplotlib.pyplot as plt\n",
        "from torch.utils.data import Dataset\n",
        "import torch\n",
        "import torchvision.transforms as transforms\n",
        "import numpy as np\n",
        "np.random.seed(1)\n",
        "# creating own DatasetClass (this is like an ImageFolder, except custom so that we don't have to arrange images in a directory by label)\n",
        "class BoundingBoxDataset(Dataset):  \n",
        "    def __init__(self, labels_path, imgs_path, indices): # can maybe also feed this a list of indices of the relevant train/test\n",
        "        \"\"\"\n",
        "        Initialize data set as a list of IDs corresponding to each item of data set\n",
        "        :param img_dir: path to image files as a uncompressed tar archive\n",
        "        :param txt_path: a text file containing names of all of images line by line\n",
        "        \"\"\"\n",
        "        # Read in the dataframe\n",
        "        data = pd.read_csv(labels_path, sep=',', index_col=0)\n",
        "        \n",
        "        # Convert the column into a list\n",
        "        master_list = []\n",
        "        for i in range(data.shape[0]):\n",
        "          master_list.append(data.iloc[i, 1])\n",
        "\n",
        "        # Extract just the unique values (i.e. the set)\n",
        "        unique = np.unique(master_list)\n",
        "\n",
        "        # Create a mapping between each symbol and an ID in [0,...,368]\n",
        "        dict_id = {}\n",
        "        i = 0\n",
        "        for symbol in unique:\n",
        "          dict_id[symbol] = i\n",
        "          i = i + 1\n",
        "\n",
        "        # Add an class_id column to represent the class for each\n",
        "        data[\"class_id\"] = 0\n",
        "\n",
        "        # Iterate through the dataframe and add in the new id\n",
        "        for i in range(data.shape[0]): # note: could change this to iterate thru a list instead\n",
        "          data.iloc[i, 3] = dict_id[data.iloc[i, 1]]\n",
        "\n",
        "        # Finally, declare self.df\n",
        "        self.df = data.iloc[indices,:] # use data, but only at relevant indices to either train/test/validate\n",
        "        self.img_names = self.df.index.values\n",
        "        self.labels_path = labels_path\n",
        "        self.imgs_path = imgs_path\n",
        "        self.transform = transforms.Compose([transforms.ToTensor()])\n",
        "        # initial object transform\n",
        "        self.t1 = transforms.Compose([  \n",
        "                                        transforms.RandomAffine(degrees=5, scale=(.9,1.1), fillcolor=(255,255,255))\n",
        "                                      , transforms.Resize(32)])\n",
        "        # another transform for individual images (make sure that output is still 32x32)\n",
        "        \n",
        "    def get_image_from_folder(self, name):\n",
        "        \"\"\"\n",
        "        gets a image by a name gathered from file list text file\n",
        "        :param name: name of targeted image\n",
        "        :return: a PIL image\n",
        "        \"\"\"\n",
        "        image = Image.open(os.path.join(self.imgs_path, name))\n",
        "        return image\n",
        "\n",
        "    def __len__(self):\n",
        "        \"\"\"\n",
        "        Return the length of data set using list of IDs\n",
        "        :return: number of samples in data set\n",
        "        \"\"\"\n",
        "        return len(self.img_names)\n",
        "\n",
        "    # define a function for an image paste\n",
        "\n",
        "    def __getitem__(self, index):\n",
        "        \"\"\"\n",
        "        Generate one item of data set. \n",
        "        \"\"\"\n",
        "        indices = [index] # first index\n",
        "        img = self.get_image_from_folder(self.img_names[index]) # get initial image\n",
        "        images = [img]\n",
        "\n",
        "        n=np.random.randint(2,9) # n = how many additional characters are we adding?\n",
        "        for i in range(n): # open each of the n additional images\n",
        "          rand_idx = np.random.randint(0, self.df.shape[0])\n",
        "          indices.append(rand_idx)\n",
        "          images.append(self.get_image_from_folder(self.img_names[rand_idx]))\n",
        "\n",
        "        # create a 350x350 blank image\n",
        "        new_im = Image.new('RGB', (350, 350), (255, 255, 255))\n",
        "        # choose initial point x,y to start pasting\n",
        "        x_init = np.random.randint(0, 350-(n+1)*32)\n",
        "        y_init = np.random.randint(0,350-32)\n",
        "\n",
        "        x_s = [x_init] # keep track of x coordinates\n",
        "        y_s = [y_init] # all the ys are the same\n",
        "        x_offset = 0\n",
        "        y_offset = 0\n",
        "        for im in images: # pastes all of the images into new_im\n",
        "          # transform the original image\n",
        "          im = self.t1(im)\n",
        "          new_im.paste(im, (x_offset,y_init+y_offset))\n",
        "          x_s.append(x_offset)\n",
        "          y_s.append(y_init+y_offset)\n",
        "          y_offset = np.random.randint(-5,5)\n",
        "          x_rand = np.random.randint(0,10)\n",
        "          x_offset += im.size[0] + x_rand\n",
        "\n",
        "        image = image.convert('L')\n",
        "        image = self.transform(new_im) # transform to tensor \n",
        "        # lbl = torch.tensor(self.df.iloc[index][3]) \n",
        "        labels = []\n",
        "        for idx in indices: labels.append(self.df.iloc[idx][3])\n",
        "        \n",
        "        lbl = list((zip(x_s, y_s, labels)))         # new label will be n+1 tuples containing x_coord, y_coord, img_label)\n",
        "        return (image, lbl)\n",
        "        # since we're working with 32/32 shapes: x2 = x+32, y2=y+32 gives us our bounding box"
      ],
      "execution_count": null,
      "outputs": []
    },
    {
      "cell_type": "markdown",
      "metadata": {
        "id": "wKMhKEisxn80",
        "colab_type": "text"
      },
      "source": [
        "# Export"
      ]
    },
    {
      "cell_type": "code",
      "metadata": {
        "id": "pTIQwufOf4S6",
        "colab_type": "code",
        "colab": {}
      },
      "source": [
        "# hyperparameters: update batch size, test/validation split\n",
        "test_val_split = 0.2\n",
        "\n",
        "# Creating data indices for training and validation splits:\n",
        "dataset_size = len(all_data.index)\n",
        "indices = list(range(dataset_size))\n",
        "split = int(np.floor(test_val_split * dataset_size))\n",
        "\n",
        "np.random.seed(3)\n",
        "np.random.shuffle(indices)\n",
        "\n",
        "test_indices, val_indices, train_indices = indices[:split], indices[split:2*split], indices[2*split:]\n",
        "\n",
        "train_dataset = SymbolsDataset(labels_path, imgs_path, indices = train_indices)\n",
        "val_dataset = SymbolsDataset(labels_path, imgs_path, indices = val_indices)\n",
        "test_dataset = SymbolsDataset(labels_path, imgs_path, indices = test_indices)\n",
        "\n",
        "# train_dataset = BoundingBoxDataset(labels_path, imgs_path, indices = train_indices)\n",
        "# val_dataset = BoundingBoxDataset(labels_path, imgs_path, indices = val_indices)\n",
        "# test_dataset = BoundingBoxDataset(labels_path, imgs_path, indices = test_indices)"
      ],
      "execution_count": null,
      "outputs": []
    },
    {
      "cell_type": "code",
      "metadata": {
        "id": "U_j2H_VhLUi1",
        "colab_type": "code",
        "colab": {}
      },
      "source": [
        "# save these to pickle files\n",
        "# sliding window algo: https://towardsdatascience.com/convolutional-implementation-of-the-sliding-window-algorithm-db93a49f99a0\n",
        "# YOLO specifically: https://arxiv.org/pdf/1506.02640.pdf\n",
        "# divide the input into an SxS grid\n",
        "import pickle\n",
        "from pydrive.auth import GoogleAuth\n",
        "from pydrive.drive import GoogleDrive\n",
        "from google.colab import auth\n",
        "from oauth2client.client import GoogleCredentials\n",
        "\n",
        "# 1. Authenticate and create the PyDrive client.\n",
        "auth.authenticate_user()\n",
        "gauth = GoogleAuth()\n",
        "gauth.credentials = GoogleCredentials.get_application_default()\n",
        "drive = GoogleDrive(gauth)  \n",
        "\n",
        "with open('train_dataset_L_dropped.pkl', 'wb') as output:\n",
        "    pickle.dump(train_dataset, output)\n",
        "# get the folder id where you want to save your file\n",
        "file = drive.CreateFile()\n",
        "file.SetContentFile('train_dataset_L_dropped.pkl')\n",
        "file.Upload() \n",
        "\n",
        "with open('test_dataset_L_dropped.pkl', 'wb') as output:\n",
        "    pickle.dump(test_dataset, output)\n",
        "# get the folder id where you want to save your file\n",
        "file = drive.CreateFile()\n",
        "file.SetContentFile('test_dataset_L_dropped.pkl')\n",
        "file.Upload() \n",
        "\n",
        "with open('val_dataset_L_dropped.pkl', 'wb') as output:\n",
        "    pickle.dump(val_dataset, output)\n",
        "# get the folder id where you want to save your file\n",
        "file = drive.CreateFile()\n",
        "file.SetContentFile('val_dataset_L_dropped.pkl')\n",
        "file.Upload() "
      ],
      "execution_count": null,
      "outputs": []
    },
    {
      "cell_type": "markdown",
      "metadata": {
        "id": "5MFsMM6ijURU",
        "colab_type": "text"
      },
      "source": [
        "# Open Pickle Files"
      ]
    },
    {
      "cell_type": "code",
      "metadata": {
        "id": "IZd_iJ8j3I3f",
        "colab_type": "code",
        "colab": {
          "base_uri": "https://localhost:8080/",
          "height": 34
        },
        "outputId": "fad09f32-b8c9-4b74-df3d-43b578a1261c"
      },
      "source": [
        "%cd /content/"
      ],
      "execution_count": null,
      "outputs": [
        {
          "output_type": "stream",
          "text": [
            "/content\n"
          ],
          "name": "stdout"
        }
      ]
    },
    {
      "cell_type": "code",
      "metadata": {
        "id": "2Ke8jh7DjhIN",
        "colab_type": "code",
        "colab": {
          "base_uri": "https://localhost:8080/",
          "height": 34
        },
        "outputId": "1fdf962f-75c0-4d1b-b7d8-398a9bebd81d"
      },
      "source": [
        "from google.colab import drive\n",
        "import pickle\n",
        "drive.mount('/content/drive')\n",
        "DATA_PATH = \"/content/drive/My Drive/Year 4/APS360/APS 360 Project/Greyscale Dropped Classes/\"\n",
        "infile = open(DATA_PATH+'train_dataset_L_dropped.pkl','rb')\n",
        "train_dataset = pickle.load(infile)\n",
        "infile = open(DATA_PATH+'test_dataset_L_dropped.pkl','rb')\n",
        "test_dataset = pickle.load(infile)\n",
        "infile = open(DATA_PATH+'val_dataset_L_dropped.pkl','rb')\n",
        "val_dataset = pickle.load(infile)"
      ],
      "execution_count": null,
      "outputs": [
        {
          "output_type": "stream",
          "text": [
            "Drive already mounted at /content/drive; to attempt to forcibly remount, call drive.mount(\"/content/drive\", force_remount=True).\n"
          ],
          "name": "stdout"
        }
      ]
    },
    {
      "cell_type": "code",
      "metadata": {
        "id": "fhxewlg0LKmg",
        "colab_type": "code",
        "colab": {}
      },
      "source": [
        "batch_size=1\n",
        "train_loader = torch.utils.data.DataLoader(train_dataset, batch_size=batch_size)\n",
        "validation_loader = torch.utils.data.DataLoader(val_dataset, batch_size=batch_size)\n",
        "test_loader = torch.utils.data.DataLoader(test_dataset, batch_size=batch_size)"
      ],
      "execution_count": null,
      "outputs": []
    },
    {
      "cell_type": "code",
      "metadata": {
        "id": "UND8TblSc9wg",
        "colab_type": "code",
        "colab": {}
      },
      "source": [
        "import os"
      ],
      "execution_count": null,
      "outputs": []
    },
    {
      "cell_type": "code",
      "metadata": {
        "id": "Xaw1l_kCOqhi",
        "colab_type": "code",
        "colab": {
          "base_uri": "https://localhost:8080/",
          "height": 49
        },
        "outputId": "01651aa2-cc5d-4290-d90c-6505e9c2620f"
      },
      "source": [
        "iterator = 1\n",
        "for img, label in train_dataset:\n",
        "  iterator+=1\n",
        "  i = img\n",
        "  l = label\n",
        "  if iterator==78: break\n",
        "\n",
        "transforms.ToPILImage(mode='L')(i)"
      ],
      "execution_count": null,
      "outputs": [
        {
          "output_type": "execute_result",
          "data": {
            "image/png": "[encoded data removed]",
            "text/plain": [
              "<PIL.Image.Image image mode=L size=32x32 at 0x7FCD273DF7B8>"
            ]
          },
          "metadata": {
            "tags": []
          },
          "execution_count": 19
        }
      ]
    },
    {
      "cell_type": "code",
      "metadata": {
        "id": "b1dyBfaMhKZE",
        "colab_type": "code",
        "colab": {}
      },
      "source": [
        "# dict of all ids\n",
        "id_to_latex = dict(set(zip(train_dataset.df['class_id'], train_dataset.df['latex'])))"
      ],
      "execution_count": null,
      "outputs": []
    },
    {
      "cell_type": "code",
      "metadata": {
        "id": "gMPFn7Dlibvw",
        "colab_type": "code",
        "colab": {}
      },
      "source": [
        "import pickle\n",
        "from pydrive.auth import GoogleAuth\n",
        "from pydrive.drive import GoogleDrive\n",
        "from google.colab import auth\n",
        "from oauth2client.client import GoogleCredentials\n",
        "\n",
        "# 1. Authenticate and create the PyDrive client.\n",
        "auth.authenticate_user()\n",
        "gauth = GoogleAuth()\n",
        "gauth.credentials = GoogleCredentials.get_application_default()\n",
        "drive = GoogleDrive(gauth)  \n",
        "\n",
        "with open('id_dict.pkl', 'wb') as output:\n",
        "    pickle.dump(id_to_latex, output)\n",
        "# get the folder id where you want to save your file\n",
        "file = drive.CreateFile()\n",
        "file.SetContentFile('id_dict.pkl')\n",
        "file.Upload() "
      ],
      "execution_count": null,
      "outputs": []
    },
    {
      "cell_type": "markdown",
      "metadata": {
        "id": "Y3WSs-oB0TVx",
        "colab_type": "text"
      },
      "source": [
        "# Dummy Dataset for Sanity Test"
      ]
    },
    {
      "cell_type": "code",
      "metadata": {
        "id": "wkhFF3c5dRAw",
        "colab_type": "code",
        "colab": {
          "base_uri": "https://localhost:8080/",
          "height": 34
        },
        "outputId": "033d3388-a7fa-4e6f-87c8-4c5bad4b0157"
      },
      "source": [
        "train_dataset"
      ],
      "execution_count": null,
      "outputs": [
        {
          "output_type": "execute_result",
          "data": {
            "text/plain": [
              "<__main__.SymbolsDataset at 0x7f441f623908>"
            ]
          },
          "metadata": {
            "tags": []
          },
          "execution_count": 13
        }
      ]
    },
    {
      "cell_type": "code",
      "metadata": {
        "id": "o7vB7FZL0SxE",
        "colab_type": "code",
        "colab": {}
      },
      "source": [
        "from torch.utils.data.sampler import SubsetRandomSampler\n",
        "# hyperparameters: update batch size, test/validation split\n",
        "batch_size_dumb = 1\n",
        "test_val_split_dumb = 0.2\n",
        "\n",
        "# Creating data indices for training and validation splits:\n",
        "dataset_size_dumb = 1\n",
        "indices_dumb = list(range(dataset_size_dumb))\n",
        "split_dumb = int(np.floor(test_val_split_dumb * dataset_size_dumb))\n",
        "\n",
        "np.random.seed(3)\n",
        "np.random.shuffle(indices_dumb)\n",
        "\n",
        "test_indices_dumb, val_indices_dumb, train_indices_dumb = indices_dumb[split_dumb:], indices_dumb[split_dumb:2*split_dumb], indices_dumb[2*split_dumb:]\n",
        "\n",
        "# Creating PT data samplers and loaders:\n",
        "train_sampler_dumb = SubsetRandomSampler(train_indices_dumb)\n",
        "valid_sampler_dumb = SubsetRandomSampler(val_indices_dumb)\n",
        "test_sampler_dumb = SubsetRandomSampler(test_indices_dumb)\n",
        "\n",
        "train_loader_dumb = torch.utils.data.DataLoader(train_dataset, batch_size=batch_size_dumb, \n",
        "                                           sampler=train_sampler_dumb)\n",
        "validation_loader_dumb = torch.utils.data.DataLoader(val_dataset, batch_size=batch_size_dumb,\n",
        "                                                sampler=valid_sampler_dumb)\n",
        "test_loader_dumb = torch.utils.data.DataLoader(test_dataset, batch_size=batch_size_dumb,\n",
        "                                                sampler=test_sampler_dumb)"
      ],
      "execution_count": null,
      "outputs": []
    },
    {
      "cell_type": "markdown",
      "metadata": {
        "id": "fOmo0_I8AeY7",
        "colab_type": "text"
      },
      "source": [
        "# Bounding Box Detection"
      ]
    },
    {
      "cell_type": "code",
      "metadata": {
        "id": "yxSFfOFaAhaT",
        "colab_type": "code",
        "colab": {
          "base_uri": "https://localhost:8080/",
          "height": 158
        },
        "outputId": "b4d4843b-37cd-4522-85bf-893ac831c5c3"
      },
      "source": [
        "# Going to try and implement openCV, first using dummy loader\n",
        "for img, lbl in train_loader_dumb:\n",
        "  print(img)\n",
        "  print(lbl)\n",
        "  break"
      ],
      "execution_count": null,
      "outputs": [
        {
          "output_type": "stream",
          "text": [
            "tensor([[[[1., 1., 1.,  ..., 1., 1., 1.],\n",
            "          [1., 1., 1.,  ..., 1., 1., 1.],\n",
            "          [1., 1., 1.,  ..., 1., 1., 1.],\n",
            "          ...,\n",
            "          [1., 1., 1.,  ..., 1., 1., 1.],\n",
            "          [1., 1., 1.,  ..., 1., 1., 1.],\n",
            "          [1., 1., 1.,  ..., 1., 1., 1.]]]])\n",
            "tensor([326])\n"
          ],
          "name": "stdout"
        }
      ]
    },
    {
      "cell_type": "code",
      "metadata": {
        "id": "YMCTUjlNDOU5",
        "colab_type": "code",
        "colab": {}
      },
      "source": [
        "toPIL=transforms.ToPILImage()\n",
        "img=toPIL(np.squeeze(img))"
      ],
      "execution_count": null,
      "outputs": []
    },
    {
      "cell_type": "code",
      "metadata": {
        "id": "XHs26KEDBejS",
        "colab_type": "code",
        "colab": {}
      },
      "source": [
        "# create a PIL\n",
        "new_im = Image.new('L', (350, 350), (255))\n",
        "new_im.paste(img, (30,44))\n",
        "new_im.paste(img, (60,100))"
      ],
      "execution_count": null,
      "outputs": []
    },
    {
      "cell_type": "code",
      "metadata": {
        "id": "ojOHwJveCtrF",
        "colab_type": "code",
        "colab": {
          "base_uri": "https://localhost:8080/",
          "height": 366
        },
        "outputId": "f25e501b-ea1f-43fd-d8b7-2d221a52da9b"
      },
      "source": [
        "new_im"
      ],
      "execution_count": null,
      "outputs": [
        {
          "output_type": "execute_result",
          "data": {
            "image/png": "[encoded data removed]",
            "text/plain": [
              "<PIL.Image.Image image mode=L size=350x350 at 0x7F43C5A48C50>"
            ]
          },
          "metadata": {
            "tags": []
          },
          "execution_count": 114
        }
      ]
    },
    {
      "cell_type": "code",
      "metadata": {
        "id": "hgp7DoyeD4Us",
        "colab_type": "code",
        "colab": {}
      },
      "source": [
        "import cv2 as cv # import cv2"
      ],
      "execution_count": null,
      "outputs": []
    },
    {
      "cell_type": "code",
      "metadata": {
        "id": "gWbcS0zOEk__",
        "colab_type": "code",
        "colab": {}
      },
      "source": [
        "import PIL"
      ],
      "execution_count": null,
      "outputs": []
    },
    {
      "cell_type": "code",
      "metadata": {
        "id": "NklelBXFEhAF",
        "colab_type": "code",
        "colab": {}
      },
      "source": [
        "inverted_image = PIL.ImageOps.invert(new_im)"
      ],
      "execution_count": null,
      "outputs": []
    },
    {
      "cell_type": "code",
      "metadata": {
        "id": "Hxwt1SLgD5fl",
        "colab_type": "code",
        "colab": {}
      },
      "source": [
        "x,y,w,h = cv.boundingRect(np.asarray(inverted_image))"
      ],
      "execution_count": null,
      "outputs": []
    },
    {
      "cell_type": "code",
      "metadata": {
        "id": "ykkNBdpnEL8t",
        "colab_type": "code",
        "colab": {
          "base_uri": "https://localhost:8080/",
          "height": 34
        },
        "outputId": "3ee50166-d0b3-4444-be4e-61cbc794467a"
      },
      "source": [
        "x"
      ],
      "execution_count": null,
      "outputs": [
        {
          "output_type": "execute_result",
          "data": {
            "text/plain": [
              "30"
            ]
          },
          "metadata": {
            "tags": []
          },
          "execution_count": 71
        }
      ]
    },
    {
      "cell_type": "code",
      "metadata": {
        "id": "Dkpgrcg5EMtU",
        "colab_type": "code",
        "colab": {
          "base_uri": "https://localhost:8080/",
          "height": 34
        },
        "outputId": "21b1995d-ae19-423e-db0e-251990a2b660"
      },
      "source": [
        "y"
      ],
      "execution_count": null,
      "outputs": [
        {
          "output_type": "execute_result",
          "data": {
            "text/plain": [
              "44"
            ]
          },
          "metadata": {
            "tags": []
          },
          "execution_count": 72
        }
      ]
    },
    {
      "cell_type": "code",
      "metadata": {
        "id": "No-8SVJkENaK",
        "colab_type": "code",
        "colab": {
          "base_uri": "https://localhost:8080/",
          "height": 34
        },
        "outputId": "8152cd61-e3b4-4941-fcf7-4b2962a68fb8"
      },
      "source": [
        "w"
      ],
      "execution_count": null,
      "outputs": [
        {
          "output_type": "execute_result",
          "data": {
            "text/plain": [
              "62"
            ]
          },
          "metadata": {
            "tags": []
          },
          "execution_count": 73
        }
      ]
    },
    {
      "cell_type": "code",
      "metadata": {
        "id": "CPerwh2qEOFb",
        "colab_type": "code",
        "colab": {
          "base_uri": "https://localhost:8080/",
          "height": 34
        },
        "outputId": "6569df98-1cbc-4893-c8b4-d32818029566"
      },
      "source": [
        "h"
      ],
      "execution_count": null,
      "outputs": [
        {
          "output_type": "execute_result",
          "data": {
            "text/plain": [
              "88"
            ]
          },
          "metadata": {
            "tags": []
          },
          "execution_count": 74
        }
      ]
    },
    {
      "cell_type": "code",
      "metadata": {
        "id": "f7ildAgMFfa0",
        "colab_type": "code",
        "colab": {
          "base_uri": "https://localhost:8080/",
          "height": 420
        },
        "outputId": "3ecfb19a-7f9f-4c8c-ebb9-37ddf61a4de3"
      },
      "source": [
        "# find contours\n",
        "new_im = np.asarray(new_im)\n",
        "\n",
        "from google.colab.patches import cv2_imshow\n",
        "thresh = cv.threshold(new_im, 0, 255, cv.THRESH_BINARY_INV)[1]\n",
        "\n",
        "# Find contours, obtain bounding box, extract and save ROI\n",
        "ROI_number = 0\n",
        "cnts = cv.findContours(thresh, cv.RETR_TREE, cv.CHAIN_APPROX_SIMPLE)\n",
        "cnts = cnts[0] if len(cnts) == 2 else cnts[1]\n",
        "for c in cnts:\n",
        "    x,y,w,h = cv.boundingRect(c)\n",
        "    print(x,y,w,h)\n",
        "    cv.rectangle(new_im, (x, y), (x + w, y + h), (1), 2)\n",
        "    ROI = new_im[y:y+h, x:x+w]\n",
        "    cv.imwrite('ROI_{}.png'.format(ROI_number), ROI)\n",
        "    ROI_number += 1\n",
        "\n",
        "cv2_imshow(new_im)\n",
        "cv.waitKey()"
      ],
      "execution_count": null,
      "outputs": [
        {
          "output_type": "stream",
          "text": [
            "60 100 32 32\n",
            "30 44 32 32\n"
          ],
          "name": "stdout"
        },
        {
          "output_type": "display_data",
          "data": {
            "image/png": "[encoded data removed]",
            "text/plain": [
              "<PIL.Image.Image image mode=L size=350x350 at 0x7F43C51E7080>"
            ]
          },
          "metadata": {
            "tags": []
          }
        },
        {
          "output_type": "execute_result",
          "data": {
            "text/plain": [
              "-1"
            ]
          },
          "metadata": {
            "tags": []
          },
          "execution_count": 115
        }
      ]
    },
    {
      "cell_type": "markdown",
      "metadata": {
        "id": "kDQLw0LIjg3D",
        "colab_type": "text"
      },
      "source": [
        "# Import Resnet Model"
      ]
    },
    {
      "cell_type": "code",
      "metadata": {
        "id": "BbeaiV-hTHpB",
        "colab_type": "code",
        "colab": {}
      },
      "source": [
        "from functools import partial\n",
        "from dataclasses import dataclass\n",
        "from collections import OrderedDict\n",
        "from googleapiclient.discovery import build\n",
        "import io, os\n",
        "from googleapiclient.http import MediaIoBaseDownload\n",
        "from google.colab import auth\n",
        "from google.colab import drive\n",
        "import pickle\n",
        "from sklearn.utils import resample\n",
        "import pandas as pd\n",
        "from PIL import Image\n",
        "import pandas as pd\n",
        "import matplotlib.pyplot as plt\n",
        "from torch.utils.data import Dataset\n",
        "import torch\n",
        "import torchvision.transforms as transforms\n",
        "import numpy as np\n",
        "from torch import nn\n",
        "\n",
        "from sklearn.metrics import confusion_matrix\n",
        "import seaborn as sn"
      ],
      "execution_count": null,
      "outputs": []
    },
    {
      "cell_type": "code",
      "metadata": {
        "id": "rPKJ1BB1JoPy",
        "colab_type": "code",
        "colab": {}
      },
      "source": [
        "class Conv2dAuto(nn.Conv2d):\n",
        "    def __init__(self, *args, **kwargs):\n",
        "        super().__init__(*args, **kwargs)\n",
        "        self.padding =  (self.kernel_size[0] // 2, self.kernel_size[1] // 2) # dynamic add padding based on the kernel_size\n",
        "        "
      ],
      "execution_count": null,
      "outputs": []
    },
    {
      "cell_type": "code",
      "metadata": {
        "id": "iH96kxk2J8Aa",
        "colab_type": "code",
        "colab": {}
      },
      "source": [
        "def activation_func(activation):\n",
        "    return  nn.ModuleDict([\n",
        "        ['relu', nn.ReLU(inplace=True)],\n",
        "        ['leaky_relu', nn.LeakyReLU(negative_slope=0.01, inplace=True)],\n",
        "        ['selu', nn.SELU(inplace=True)],\n",
        "        ['none', nn.Identity()]\n",
        "    ])[activation]"
      ],
      "execution_count": null,
      "outputs": []
    },
    {
      "cell_type": "code",
      "metadata": {
        "id": "9dcswGbWKJjZ",
        "colab_type": "code",
        "colab": {}
      },
      "source": [
        "class ResidualBlock(nn.Module):\n",
        "    def __init__(self, in_channels, out_channels, activation='relu'):\n",
        "        super().__init__()\n",
        "        self.in_channels, self.out_channels, self.activation = in_channels, out_channels, activation\n",
        "        self.blocks = nn.Identity()\n",
        "        self.activate = activation_func(activation)\n",
        "        self.shortcut = nn.Identity()   \n",
        "    \n",
        "    def forward(self, x):\n",
        "        residual = x\n",
        "        if self.should_apply_shortcut: residual = self.shortcut(x)\n",
        "        x = self.blocks(x)\n",
        "        x += residual\n",
        "        x = self.activate(x)\n",
        "        return x\n",
        "    \n",
        "    @property\n",
        "    def should_apply_shortcut(self):\n",
        "        return self.in_channels != self.out_channels"
      ],
      "execution_count": null,
      "outputs": []
    },
    {
      "cell_type": "code",
      "metadata": {
        "id": "u6ZKSKpiKzC7",
        "colab_type": "code",
        "colab": {}
      },
      "source": [
        "conv3x3 = partial(Conv2dAuto, kernel_size=3, bias=False)      \n",
        "\n",
        "class ResNetResidualBlock(ResidualBlock):\n",
        "    def __init__(self, in_channels, out_channels, expansion=1, downsampling=1, conv=conv3x3, *args, **kwargs):\n",
        "        super().__init__(in_channels, out_channels, *args, **kwargs)\n",
        "        self.expansion, self.downsampling, self.conv = expansion, downsampling, conv\n",
        "        self.shortcut = nn.Sequential(\n",
        "            nn.Conv2d(self.in_channels, self.expanded_channels, kernel_size=1,\n",
        "                      stride=self.downsampling, bias=False),\n",
        "            nn.BatchNorm2d(self.expanded_channels)) if self.should_apply_shortcut else None\n",
        "        \n",
        "        \n",
        "    @property\n",
        "    def expanded_channels(self):\n",
        "        return self.out_channels * self.expansion\n",
        "    \n",
        "    @property\n",
        "    def should_apply_shortcut(self):\n",
        "        return self.in_channels != self.expanded_channels"
      ],
      "execution_count": null,
      "outputs": []
    },
    {
      "cell_type": "code",
      "metadata": {
        "id": "zpYK_IuZLM8q",
        "colab_type": "code",
        "colab": {}
      },
      "source": [
        "class ResNetBasicBlock(ResNetResidualBlock):\n",
        "    \"\"\"\n",
        "    Basic ResNet block composed by two layers of 3x3conv/batchnorm/activation\n",
        "    \"\"\"\n",
        "    expansion = 1\n",
        "    def __init__(self, in_channels, out_channels, *args, **kwargs):\n",
        "        super().__init__(in_channels, out_channels, *args, **kwargs)\n",
        "        self.blocks = nn.Sequential(\n",
        "            conv_bn(self.in_channels, self.out_channels, conv=self.conv, bias=False, stride=self.downsampling),\n",
        "            activation_func(self.activation),\n",
        "            conv_bn(self.out_channels, self.expanded_channels, conv=self.conv, bias=False),\n",
        "        )\n",
        "    "
      ],
      "execution_count": null,
      "outputs": []
    },
    {
      "cell_type": "code",
      "metadata": {
        "id": "khjUtvlCLUjH",
        "colab_type": "code",
        "colab": {}
      },
      "source": [
        "class ResNetBottleNeckBlock(ResNetResidualBlock):\n",
        "    expansion = 4\n",
        "    def __init__(self, in_channels, out_channels, *args, **kwargs):\n",
        "        super().__init__(in_channels, out_channels, expansion=4, *args, **kwargs)\n",
        "        self.blocks = nn.Sequential(\n",
        "           conv_bn(self.in_channels, self.out_channels, self.conv, kernel_size=1),\n",
        "             activation_func(self.activation),\n",
        "             conv_bn(self.out_channels, self.out_channels, self.conv, kernel_size=3, stride=self.downsampling),\n",
        "             activation_func(self.activation),\n",
        "             conv_bn(self.out_channels, self.expanded_channels, self.conv, kernel_size=1),\n",
        "        )"
      ],
      "execution_count": null,
      "outputs": []
    },
    {
      "cell_type": "code",
      "metadata": {
        "id": "zmnbRDv2LcSs",
        "colab_type": "code",
        "colab": {}
      },
      "source": [
        "class ResNetLayer(nn.Module):\n",
        "    \"\"\"\n",
        "    A ResNet layer composed by `n` blocks stacked one after the other\n",
        "    \"\"\"\n",
        "    def __init__(self, in_channels, out_channels, block=ResNetBasicBlock, n=1, *args, **kwargs):\n",
        "        super().__init__()\n",
        "        # 'We perform downsampling directly by convolutional layers that have a stride of 2.'\n",
        "        downsampling = 2 if in_channels != out_channels else 1\n",
        "        self.blocks = nn.Sequential(\n",
        "            block(in_channels , out_channels, *args, **kwargs, downsampling=downsampling),\n",
        "            *[block(out_channels * block.expansion, \n",
        "                    out_channels, downsampling=1, *args, **kwargs) for _ in range(n - 1)]\n",
        "        )\n",
        "\n",
        "    def forward(self, x):\n",
        "        x = self.blocks(x)\n",
        "        return x"
      ],
      "execution_count": null,
      "outputs": []
    },
    {
      "cell_type": "code",
      "metadata": {
        "id": "afYSeasRLiQ3",
        "colab_type": "code",
        "colab": {}
      },
      "source": [
        "class ResNetEncoder(nn.Module):\n",
        "    \"\"\"\n",
        "    ResNet encoder composed by layers with increasing features.\n",
        "    \"\"\"\n",
        "    def __init__(self, in_channels=3, blocks_sizes=[64, 128, 256, 512], deepths=[2,2,2,2], \n",
        "                 activation='relu', block=ResNetBasicBlock, *args, **kwargs):\n",
        "        super().__init__()\n",
        "        self.blocks_sizes = blocks_sizes\n",
        "        \n",
        "        self.gate = nn.Sequential(\n",
        "            nn.Conv2d(in_channels, self.blocks_sizes[0], kernel_size=7, stride=2, padding=3, bias=False),\n",
        "            nn.BatchNorm2d(self.blocks_sizes[0]),\n",
        "            activation_func(activation),\n",
        "            nn.MaxPool2d(kernel_size=3, stride=2, padding=1)\n",
        "        )\n",
        "        \n",
        "        self.in_out_block_sizes = list(zip(blocks_sizes, blocks_sizes[1:]))\n",
        "        self.blocks = nn.ModuleList([ \n",
        "            ResNetLayer(blocks_sizes[0], blocks_sizes[0], n=deepths[0], activation=activation, \n",
        "                        block=block,*args, **kwargs),\n",
        "            *[ResNetLayer(in_channels * block.expansion, \n",
        "                          out_channels, n=n, activation=activation, \n",
        "                          block=block, *args, **kwargs) \n",
        "              for (in_channels, out_channels), n in zip(self.in_out_block_sizes, deepths[1:])]       \n",
        "        ])\n",
        "        \n",
        "        \n",
        "    def forward(self, x):\n",
        "        x = self.gate(x)\n",
        "        for block in self.blocks:\n",
        "            x = block(x)\n",
        "        return x"
      ],
      "execution_count": null,
      "outputs": []
    },
    {
      "cell_type": "code",
      "metadata": {
        "id": "n5WAJiWaLo_q",
        "colab_type": "code",
        "colab": {}
      },
      "source": [
        "class ResnetDecoder(nn.Module):\n",
        "    \"\"\"\n",
        "    This class represents the tail of ResNet. It performs a global pooling and maps the output to the\n",
        "    correct class by using a fully connected layer.\n",
        "    \"\"\"\n",
        "    def __init__(self, in_features, n_classes):\n",
        "        super().__init__()\n",
        "        self.avg = nn.AdaptiveAvgPool2d((1, 1))\n",
        "        self.decoder = nn.Linear(in_features, n_classes)\n",
        "\n",
        "    def forward(self, x):\n",
        "        x = self.avg(x)\n",
        "        x = x.view(x.size(0), -1)\n",
        "        x = self.decoder(x)\n",
        "        return x"
      ],
      "execution_count": null,
      "outputs": []
    },
    {
      "cell_type": "code",
      "metadata": {
        "id": "PIqHFTHkLqTz",
        "colab_type": "code",
        "colab": {}
      },
      "source": [
        "class ResNet(nn.Module):\n",
        "    \n",
        "    def __init__(self, in_channels, n_classes, *args, **kwargs):\n",
        "        super().__init__()\n",
        "        self.name = \"ResNet\"\n",
        "        self.encoder = ResNetEncoder(in_channels, *args, **kwargs)\n",
        "        self.decoder = ResnetDecoder(self.encoder.blocks[-1].blocks[-1].expanded_channels, n_classes)\n",
        "        \n",
        "    def forward(self, x):\n",
        "        x = self.encoder(x)\n",
        "        x = self.decoder(x)\n",
        "        return x"
      ],
      "execution_count": null,
      "outputs": []
    },
    {
      "cell_type": "code",
      "metadata": {
        "id": "1C-mYitrj536",
        "colab_type": "code",
        "colab": {}
      },
      "source": [
        "def conv_bn(in_channels, out_channels, conv, *args, **kwargs):\n",
        "    return nn.Sequential(conv(in_channels, out_channels, *args, **kwargs), nn.BatchNorm2d(out_channels))"
      ],
      "execution_count": null,
      "outputs": []
    },
    {
      "cell_type": "code",
      "metadata": {
        "id": "OsqhMxd5LyVg",
        "colab_type": "code",
        "colab": {}
      },
      "source": [
        "def resnet18(in_channels, n_classes, block=ResNetBasicBlock, *args, **kwargs):\n",
        "    return ResNet(in_channels, n_classes, block=block, deepths=[2, 2, 2, 2], *args, **kwargs)"
      ],
      "execution_count": null,
      "outputs": []
    },
    {
      "cell_type": "code",
      "metadata": {
        "id": "LV5SnsZ8L2uy",
        "colab_type": "code",
        "colab": {}
      },
      "source": [
        "def resnet34(in_channels, n_classes, block=ResNetBasicBlock, *args, **kwargs):\n",
        "    return ResNet(in_channels, n_classes, block=block, deepths=[3, 4, 6, 3], *args, **kwargs)"
      ],
      "execution_count": null,
      "outputs": []
    },
    {
      "cell_type": "code",
      "metadata": {
        "id": "sT9rMfXzMANN",
        "colab_type": "code",
        "colab": {}
      },
      "source": [
        "resnet_model = resnet18(1, 348)"
      ],
      "execution_count": null,
      "outputs": []
    },
    {
      "cell_type": "markdown",
      "metadata": {
        "id": "5fhj00vbbCPB",
        "colab_type": "text"
      },
      "source": [
        "# Model demo code"
      ]
    },
    {
      "cell_type": "code",
      "metadata": {
        "id": "5F44f0TafSwL",
        "colab_type": "code",
        "colab": {}
      },
      "source": [
        "from googleapiclient.discovery import build\n",
        "import io, os\n",
        "from googleapiclient.http import MediaIoBaseDownload\n",
        "from google.colab import auth\n",
        "from google.colab import drive\n",
        "import pickle\n",
        "\n",
        "from sklearn.metrics import confusion_matrix\n",
        "import seaborn as sn\n",
        "import cv2 as cv # import cv2\n",
        "import PIL"
      ],
      "execution_count": null,
      "outputs": []
    },
    {
      "cell_type": "code",
      "metadata": {
        "id": "upv003Icd_ye",
        "colab_type": "code",
        "colab": {}
      },
      "source": [
        "def get_model_name(name, batch_size, learning_rate, epoch):\n",
        "    \"\"\" Generate a name for the model consisting of all the hyperparameter values\n",
        "\n",
        "    Args:\n",
        "        config: Configuration object containing the hyperparameters\n",
        "    Returns:\n",
        "        path: A string with the hyperparameter name and value concatenated\n",
        "    \"\"\"\n",
        "    path = \"model_{0}_bs{1}_lr{2}_epoch{3}\".format(name,\n",
        "                                                   batch_size,\n",
        "                                                   learning_rate,\n",
        "                                                   epoch)\n",
        "    return path\n",
        "\n",
        "def split_symbols(img): # given an input image, split into individual symbols and paste each into a square\n",
        "    # find contours\n",
        "    img_np = np.asarray(img)\n",
        "\n",
        "    from google.colab.patches import cv2_imshow\n",
        "    thresh = cv.threshold(img_np, 0, 255, cv.THRESH_OTSU)[1] #cv.THRESH_OTSU\n",
        "\n",
        "    # Find contours, obtain bounding box, extract and save ROI\n",
        "    # ROI_number = 0\n",
        "    cnts = cv.findContours(thresh, cv.RETR_LIST, cv.CHAIN_APPROX_SIMPLE)\n",
        "    cnts = cnts[0] if len(cnts) == 2 else cnts[1]\n",
        "    cnts_new = []\n",
        "    for c in cnts:\n",
        "      if cv.contourArea(c)/(img_np.shape[0]*img_np.shape[1]) > 3e-3 and cv.contourArea(c)/(img_np.shape[0]*img_np.shape[1]) < 0.7:\n",
        "        cnts_new.append(c)\n",
        "\n",
        "    # order bounding boxes from left to right\n",
        "    boundingBoxes = [cv.boundingRect(c) for c in cnts_new]\n",
        "    (cnts_new, boundingBoxes) = zip(*sorted(zip(cnts_new, boundingBoxes),\n",
        "      key=lambda b:b[1][0]))\n",
        "\n",
        "    t = transforms.Compose([transforms.Pad(2, (255)), transforms.Resize((32)), transforms.CenterCrop(32), transforms.ToTensor()])\n",
        "\n",
        "    symbols=[]\n",
        "    for x, y, w, h in boundingBoxes:\n",
        "        symbol = Image.fromarray(img_np[y:y+h, x:x+w], 'L')\n",
        "        dim = max(symbol.height, symbol.width)\n",
        "        blank = symbol\n",
        "        # Image.new('L', (dim, dim),(255))\n",
        "        # blank.paste(symbol)\n",
        "        symbols.append(t(blank))\n",
        "\n",
        "    return symbols \n",
        "\n",
        "def get_preds(model, symbols):\n",
        "    latex = ''\n",
        "    for s in symbols:\n",
        "      i = model(s.unsqueeze(0).cuda()).max(1, keepdim=True)[1][0][0].item()\n",
        "      latex+=\" \"+id_dict[i]\n",
        "    return latex\n",
        "\n",
        "def display_img(symbols):\n",
        "  trans = transforms.ToPILImage('L')\n",
        "  return [trans(s) for s in symbols]\n",
        "\n",
        "def display_symbols(symbols):\n",
        "  pls=display_img(symbols)\n",
        "  plt.figure(figsize=(len(pls),10))\n",
        "  n=0\n",
        "  for p in pls:\n",
        "      plt.subplot(1,len(pls), n+1)\n",
        "      # print(img.shape)\n",
        "      # img = np.squeeze(p)\n",
        "      #print(img.shape)\n",
        "      #img = img.permute(1, 2, 0)\n",
        "      #print(img.shape)\n",
        "      plt.imshow(p)\n",
        "      n+=1"
      ],
      "execution_count": null,
      "outputs": []
    },
    {
      "cell_type": "code",
      "metadata": {
        "id": "IbpsDSq7i1MS",
        "colab_type": "code",
        "colab": {
          "base_uri": "https://localhost:8080/",
          "height": 34
        },
        "outputId": "084323b4-377b-41d3-c84f-ceb680a72f31"
      },
      "source": [
        "# import category mapping\n",
        "from google.colab import drive\n",
        "import pickle\n",
        "drive.mount('/content/drive')\n",
        "DATA_PATH = \"/content/drive/My Drive/Year 4/APS360/APS 360 Project/\"\n",
        "infile = open(DATA_PATH+'id_dict.pkl','rb')\n",
        "id_dict = pickle.load(infile)"
      ],
      "execution_count": null,
      "outputs": [
        {
          "output_type": "stream",
          "text": [
            "Drive already mounted at /content/drive; to attempt to forcibly remount, call drive.mount(\"/content/drive\", force_remount=True).\n"
          ],
          "name": "stdout"
        }
      ]
    },
    {
      "cell_type": "code",
      "metadata": {
        "id": "Mh7LwFT-eDWS",
        "colab_type": "code",
        "colab": {}
      },
      "source": [
        "class CNN_BN_Mod(nn.Module):\n",
        "    def __init__(self):\n",
        "        super(CNN_BN_Mod, self).__init__()\n",
        "        self.name = \"BN_Mod\"\n",
        "        self.conv1 = nn.Conv2d(1, 16, 3)   # Note: Only one input channel (gray scale)\n",
        "        self.pool = nn.MaxPool2d(2, 2)\n",
        "        self.conv2 = nn.Conv2d(16, 32, 3)\n",
        "        self.conv3 = nn.Conv2d(32, 64, 3)\n",
        "        self.conv4 = nn.Conv2d(64, 120, 3)\n",
        "        self.conv5 = nn.Conv2d(120, 200, 3)\n",
        "\n",
        "        self.bn1 = nn.BatchNorm2d(16)\n",
        "        self.bn2 = nn.BatchNorm2d(32)\n",
        "        self.bn3 = nn.BatchNorm2d(64)\n",
        "        self.bn4 = nn.BatchNorm2d(120)\n",
        "        self.bn5 = nn.BatchNorm2d(200)\n",
        "        self.bn_FC = nn.BatchNorm1d(75)\n",
        "\n",
        "        self.fc1 = nn.Linear(200 * 3 * 3, 75)\n",
        "        self.fc2 = nn.Linear(75, 369)\n",
        "\n",
        "    def forward(self, img):\n",
        "        x = F.relu(self.bn1(self.conv1(img)))\n",
        "        x = self.pool(F.relu(self.bn2(self.conv2(x))))\n",
        "        x = F.relu(self.bn3(self.conv3(x)))\n",
        "        x = self.pool(F.relu(self.bn4(self.conv4(x))))\n",
        "        x = F.relu(self.bn5(self.conv5(x)))\n",
        "\n",
        "        x = x.view(-1, 200 * 3 * 3)\n",
        "        x = F.relu(self.bn_FC(self.fc1(x)))\n",
        "        x = self.fc2(x)\n",
        "        return x"
      ],
      "execution_count": null,
      "outputs": []
    },
    {
      "cell_type": "code",
      "metadata": {
        "id": "O7EDj9EPUcan",
        "colab_type": "code",
        "colab": {}
      },
      "source": [
        "from IPython.display import Math\n",
        "from IPython.display import display, HTML\n",
        "from google.colab.output._publish import javascript\n",
        "# from google.colab import files\n",
        "# upload=files.upload()"
      ],
      "execution_count": null,
      "outputs": []
    },
    {
      "cell_type": "code",
      "metadata": {
        "id": "7sMv5lmKqnr_",
        "colab_type": "code",
        "colab": {
          "base_uri": "https://localhost:8080/",
          "height": 123
        },
        "outputId": "e5bf590e-0439-4731-bb88-2f5426662f32"
      },
      "source": [
        "%cd ..\n",
        "%cd ..\n",
        "%cd ..\n",
        "%cd ..\n",
        "%cd ..\n",
        "%cd .."
      ],
      "execution_count": null,
      "outputs": [
        {
          "output_type": "stream",
          "text": [
            "/content/drive/My Drive/Year 4/APS360/APS 360 Project\n",
            "/content/drive/My Drive/Year 4/APS360\n",
            "/content/drive/My Drive/Year 4\n",
            "/content/drive/My Drive\n",
            "/content/drive\n",
            "/content\n"
          ],
          "name": "stdout"
        }
      ]
    },
    {
      "cell_type": "markdown",
      "metadata": {
        "id": "pO5A2IgZUmnq",
        "colab_type": "text"
      },
      "source": [
        "**Load the model** "
      ]
    },
    {
      "cell_type": "code",
      "metadata": {
        "id": "kecf2AGGbBiG",
        "colab_type": "code",
        "colab": {}
      },
      "source": [
        "# load the model\n",
        "path_test = 'drive/My Drive/Year 4/APS360/APS 360 Project/Models/'\n",
        "name = \"ResNet\"\n",
        "path = get_model_name(name, batch_size=128, learning_rate=0.001, epoch=20)\n",
        "model = resnet_model\n",
        "\n",
        "model.load_state_dict(torch.load(path_test+path))\n",
        "model.cuda()\n",
        "model.eval()"
      ],
      "execution_count": null,
      "outputs": []
    },
    {
      "cell_type": "markdown",
      "metadata": {
        "id": "DbrsXNskUvcE",
        "colab_type": "text"
      },
      "source": [
        "**Handwritten image 1**"
      ]
    },
    {
      "cell_type": "code",
      "metadata": {
        "id": "BZmLUPI1jHEO",
        "colab_type": "code",
        "colab": {}
      },
      "source": [
        "# display(HTML(\"\"\"\n",
        "# <style>\n",
        "# #output-body {\n",
        "#     display: flex;\n",
        "#     flex-direction: column;\n",
        "#     align-items: center;\n",
        "#     justify-content: center;\n",
        "# }\n",
        "# </style>\n",
        "# \"\"\"))\n",
        "\n",
        "# img = Image.open(\"test_1.jpg\").convert('L')\n",
        "\n",
        "# # split symbols using cv2\n",
        "# symbols = split_symbols(img)\n",
        "# # display_symbols\n",
        "# display(img)\n",
        "# display_symbols(symbols)"
      ],
      "execution_count": null,
      "outputs": []
    },
    {
      "cell_type": "code",
      "metadata": {
        "id": "7S9Zck8IN9ag",
        "colab_type": "code",
        "colab": {}
      },
      "source": [
        "# url = \"https://cdnjs.cloudflare.com/ajax/libs/mathjax/2.7.3/latest.js?config=default\"\n",
        "# javascript(url=url)\n",
        "# latex = get_preds(model, symbols)\n",
        "# Math(latex)"
      ],
      "execution_count": null,
      "outputs": []
    },
    {
      "cell_type": "markdown",
      "metadata": {
        "id": "1hu-WPmLU4Sr",
        "colab_type": "text"
      },
      "source": [
        "**Handwritten image 2**"
      ]
    },
    {
      "cell_type": "code",
      "metadata": {
        "colab_type": "code",
        "id": "czznsprmUViX",
        "colab": {}
      },
      "source": [
        "# # open img and convert to grayscale \n",
        "# display(HTML(\"\"\"\n",
        "# <style>\n",
        "# #output-body {\n",
        "#     display: flex;\n",
        "#     flex-direction: column;\n",
        "#     align-items: center;\n",
        "#     justify-content: center;\n",
        "# }\n",
        "# </style>\n",
        "# \"\"\"))\n",
        "\n",
        "# img = Image.open(\"test_2.jpg\").convert('L')\n",
        "\n",
        "# # split symbols using cv2\n",
        "# symbols = split_symbols(img)\n",
        "# # display_symbols\n",
        "# display(img)\n",
        "# display_symbols(symbols)"
      ],
      "execution_count": null,
      "outputs": []
    },
    {
      "cell_type": "code",
      "metadata": {
        "colab_type": "code",
        "id": "BAr3QtV-UVil",
        "colab": {}
      },
      "source": [
        "# url = \"https://cdnjs.cloudflare.com/ajax/libs/mathjax/2.7.3/latest.js?config=default\"\n",
        "# javascript(url=url)\n",
        "# latex = get_preds(model, symbols)\n",
        "# Math(latex)"
      ],
      "execution_count": null,
      "outputs": []
    },
    {
      "cell_type": "markdown",
      "metadata": {
        "id": "isHNGbYHU7jU",
        "colab_type": "text"
      },
      "source": [
        "**Handwritten image 3**"
      ]
    },
    {
      "cell_type": "code",
      "metadata": {
        "colab_type": "code",
        "id": "_ti7HJ1KUWTg",
        "colab": {}
      },
      "source": [
        "# # open img and convert to grayscale \n",
        "# display(HTML(\"\"\"\n",
        "# <style>\n",
        "# #output-body {\n",
        "#     display: flex;\n",
        "#     flex-direction: column;\n",
        "#     align-items: center;\n",
        "#     justify-content: center;\n",
        "# }\n",
        "# </style>\n",
        "# \"\"\"))\n",
        "\n",
        "# img = Image.open(\"test_3.jpg\").convert('L')\n",
        "\n",
        "# # split symbols using cv2\n",
        "# symbols = split_symbols(img)\n",
        "# # display_symbols\n",
        "# display(img)\n",
        "# display_symbols(symbols)"
      ],
      "execution_count": null,
      "outputs": []
    },
    {
      "cell_type": "code",
      "metadata": {
        "colab_type": "code",
        "id": "7BhrsBw_UWTo",
        "colab": {}
      },
      "source": [
        "# url = \"https://cdnjs.cloudflare.com/ajax/libs/mathjax/2.7.3/latest.js?config=default\"\n",
        "# javascript(url=url)\n",
        "# latex = get_preds(model, symbols)\n",
        "# Math(latex)"
      ],
      "execution_count": null,
      "outputs": []
    },
    {
      "cell_type": "markdown",
      "metadata": {
        "id": "uhJ5qdhJad-s",
        "colab_type": "text"
      },
      "source": [
        "# Test images"
      ]
    },
    {
      "cell_type": "code",
      "metadata": {
        "id": "tT91rtF0pJk1",
        "colab_type": "code",
        "colab": {
          "base_uri": "https://localhost:8080/",
          "height": 34
        },
        "outputId": "1e9232cd-b9c2-47a3-8096-a01fb384d218"
      },
      "source": [
        "%cd drive/My Drive/Year 4/APS360/APS 360 Project/Generated test images"
      ],
      "execution_count": null,
      "outputs": [
        {
          "output_type": "stream",
          "text": [
            "/content/drive/My Drive/Year 4/APS360/APS 360 Project/Generated test images\n"
          ],
          "name": "stdout"
        }
      ]
    },
    {
      "cell_type": "code",
      "metadata": {
        "id": "NMQcEf79ph07",
        "colab_type": "code",
        "colab": {}
      },
      "source": [
        "imgs_list=[str(i) for i in range(100)]"
      ],
      "execution_count": null,
      "outputs": []
    },
    {
      "cell_type": "code",
      "metadata": {
        "id": "oo5Sks5BrvmT",
        "colab_type": "code",
        "colab": {
          "base_uri": "https://localhost:8080/",
          "height": 34
        },
        "outputId": "433044d8-828f-4485-86bb-a84df1400779"
      },
      "source": [
        "preds = []\n",
        "incorrect = []\n",
        "incorr = []\n",
        "corr = []\n",
        "for i in imgs_list:\n",
        "    img = Image.open(i+'.jpg').convert('L')\n",
        "    t = transforms.Compose([transforms.CenterCrop(32),transforms.Resize((32)), transforms.ToTensor()])\n",
        "    prediction = model(t(img).unsqueeze(0).cuda()).max(1, keepdim=True)[1][0][0].item()\n",
        "    preds.append(str(prediction))\n",
        "n=0\n",
        "correct=0\n",
        "for i in range(len(imgs_list)):\n",
        "  n+=1\n",
        "  if imgs_list[i] == preds[i]: \n",
        "    correct+=1\n",
        "    corr.append(i)\n",
        "  else: \n",
        "    incorrect.append((imgs_list[i],preds[i]))\n",
        "    incorr.append(i)\n",
        "\n",
        "print(correct/n)"
      ],
      "execution_count": null,
      "outputs": [
        {
          "output_type": "stream",
          "text": [
            "0.73\n"
          ],
          "name": "stdout"
        }
      ]
    },
    {
      "cell_type": "code",
      "metadata": {
        "id": "lsZMn8zVIsy6",
        "colab_type": "code",
        "colab": {
          "base_uri": "https://localhost:8080/",
          "height": 496
        },
        "outputId": "34e3423c-5dcf-40be-dd11-7731fc3339c3"
      },
      "source": [
        "latex = []\n",
        "for lbl, pred in incorrect:\n",
        "  print(id_dict[int(lbl)], \" mistaken for \", id_dict[int(pred)])\n",
        "  latex.append(id_dict[int(lbl)]+\" mistaken for \"+ id_dict[int(pred)])"
      ],
      "execution_count": null,
      "outputs": [
        {
          "output_type": "stream",
          "text": [
            "0  mistaken for  \\degree\n",
            "1  mistaken for  \\lfloor\n",
            "C  mistaken for  \\mathcal{C}\n",
            "E  mistaken for  \\mathds{E}\n",
            "G  mistaken for  \\in\n",
            "H  mistaken for  \\dashv\n",
            "O  mistaken for  \\fullmoon\n",
            "P  mistaken for  \\rho\n",
            "S  mistaken for  \\mathcal{S}\n",
            "U  mistaken for  \\cup\n",
            "V  mistaken for  \\vee\n",
            "X  mistaken for  \\times\n",
            "Z  mistaken for  z\n",
            "[  mistaken for  \\mathcal{L}\n",
            "\\AA  mistaken for  A\n",
            "\\Im  mistaken for  \\degree\n",
            "\\L  mistaken for  L\n",
            "\\Pi  mistaken for  \\sqcap\n",
            "\\aleph  mistaken for  N\n",
            "\\approx  mistaken for  \\simeq\n",
            "\\astrosun  mistaken for  \\odot\n",
            "\\bullet  mistaken for  \\cdot\n",
            "\\celsius  mistaken for  \\degree\n",
            "\\chi  mistaken for  \\times\n",
            "\\circ  mistaken for  \\fullmoon\n",
            "\\circlearrowright  mistaken for  \\mathcal{O}\n",
            "\\circledcirc  mistaken for  \\odot\n"
          ],
          "name": "stdout"
        }
      ]
    },
    {
      "cell_type": "code",
      "metadata": {
        "id": "t0NgJKThdKcF",
        "colab_type": "code",
        "colab": {
          "base_uri": "https://localhost:8080/",
          "height": 268
        },
        "outputId": "c8a1b876-8b72-4d53-8577-d9befc6e62ed"
      },
      "source": [
        "# display all of the incorrect images\n",
        "import numpy as np\n",
        "import matplotlib.pyplot as plt\n",
        "\n",
        "w=10\n",
        "h=10\n",
        "fig=plt.figure(figsize=(8, 8))\n",
        "columns = 10\n",
        "rows = 5\n",
        "j = 1\n",
        "for i in incorr:\n",
        "    img = Image.open(str(i)+'.jpg').convert('L')\n",
        "    fig.add_subplot(rows, columns, j)\n",
        "    j +=1\n",
        "    plt.imshow(img)\n",
        "plt.show()"
      ],
      "execution_count": null,
      "outputs": [
        {
          "output_type": "display_data",
          "data": {
            "image/png": "[encoded data removed]",
            "text/plain": [
              "<Figure size 576x576 with 27 Axes>"
            ]
          },
          "metadata": {
            "tags": []
          }
        }
      ]
    },
    {
      "cell_type": "code",
      "metadata": {
        "id": "CARwcpwMdMvy",
        "colab_type": "code",
        "colab": {
          "base_uri": "https://localhost:8080/",
          "height": 477
        },
        "outputId": "0c9c4e6d-9ce9-4df6-90e7-9994c78d005e"
      },
      "source": [
        "# display all of the correct images\n",
        "w=10\n",
        "h=10\n",
        "fig=plt.figure(figsize=(8, 8))\n",
        "columns = 10\n",
        "rows = 8\n",
        "j = 1\n",
        "for i in corr:\n",
        "    img = Image.open(str(i)+'.jpg').convert('RGB')\n",
        "    fig.add_subplot(rows, columns, j)\n",
        "    j +=1\n",
        "    plt.imshow(img)\n",
        "plt.show()"
      ],
      "execution_count": null,
      "outputs": [
        {
          "output_type": "display_data",
          "data": {
            "image/png": "[encoded data removed]",
            "text/plain": [
              "<Figure size 576x576 with 73 Axes>"
            ]
          },
          "metadata": {
            "tags": []
          }
        }
      ]
    },
    {
      "cell_type": "code",
      "metadata": {
        "id": "m8_ZmZD-qP6J",
        "colab_type": "code",
        "colab": {}
      },
      "source": [
        "def maxN(elements, n):\n",
        "    return sorted(elements, reverse=True)[:n]"
      ],
      "execution_count": null,
      "outputs": []
    },
    {
      "cell_type": "code",
      "metadata": {
        "id": "TZYCOrwAq9B2",
        "colab_type": "code",
        "colab": {}
      },
      "source": [
        "import heapq"
      ],
      "execution_count": null,
      "outputs": []
    },
    {
      "cell_type": "code",
      "metadata": {
        "id": "lUaFVGT5svO4",
        "colab_type": "code",
        "colab": {}
      },
      "source": [
        ""
      ],
      "execution_count": null,
      "outputs": []
    },
    {
      "cell_type": "code",
      "metadata": {
        "id": "osNrkKEbpC8P",
        "colab_type": "code",
        "colab": {
          "base_uri": "https://localhost:8080/",
          "height": 158
        },
        "outputId": "18eac4f2-9461-4e81-bd31-9395b490786e"
      },
      "source": [
        "n_corr = 0\n",
        "correct = []\n",
        "\n",
        "for n in range(2,10):\n",
        "  c = []\n",
        "  n_corr=0\n",
        "  for i in incorr:\n",
        "    img = Image.open(str(i)+'.jpg').convert('L')\n",
        "    arr=(model(t(img).unsqueeze(0).cuda())[0].cpu()).detach().numpy()#.max(1, keepdim=True)[1][0][0].item()\n",
        "    idx = (-arr).argsort()[:n]\n",
        "    for j in idx:\n",
        "      if id_dict[j] == id_dict[i]:\n",
        "        n_corr +=1\n",
        "        # c.append(id_dict[j])\n",
        "        correct.append(j)\n",
        "  print(n_corr)"
      ],
      "execution_count": null,
      "outputs": [
        {
          "output_type": "stream",
          "text": [
            "12\n",
            "18\n",
            "19\n",
            "21\n",
            "22\n",
            "22\n",
            "22\n",
            "22\n"
          ],
          "name": "stdout"
        }
      ]
    },
    {
      "cell_type": "code",
      "metadata": {
        "id": "w5Cx-i9St5Nt",
        "colab_type": "code",
        "colab": {}
      },
      "source": [
        "correct = set(correct)"
      ],
      "execution_count": null,
      "outputs": []
    },
    {
      "cell_type": "code",
      "metadata": {
        "id": "X6gUqEMpxFUp",
        "colab_type": "code",
        "colab": {
          "base_uri": "https://localhost:8080/",
          "height": 407
        },
        "outputId": "9bc42a03-da67-4efe-8dab-2999fc17c07e"
      },
      "source": [
        "correct"
      ],
      "execution_count": null,
      "outputs": [
        {
          "output_type": "execute_result",
          "data": {
            "text/plain": [
              "{4,\n",
              " 17,\n",
              " 19,\n",
              " 21,\n",
              " 22,\n",
              " 29,\n",
              " 30,\n",
              " 33,\n",
              " 36,\n",
              " 38,\n",
              " 40,\n",
              " 41,\n",
              " 46,\n",
              " 53,\n",
              " 60,\n",
              " 70,\n",
              " 73,\n",
              " 75,\n",
              " 88,\n",
              " 91,\n",
              " 93,\n",
              " 96}"
            ]
          },
          "metadata": {
            "tags": []
          },
          "execution_count": 130
        }
      ]
    },
    {
      "cell_type": "code",
      "metadata": {
        "id": "y_mAAIX7xZY4",
        "colab_type": "code",
        "colab": {
          "base_uri": "https://localhost:8080/",
          "height": 496
        },
        "outputId": "fcc05be5-f156-4340-c02b-5a4151e843cc"
      },
      "source": [
        "incorr"
      ],
      "execution_count": null,
      "outputs": [
        {
          "output_type": "execute_result",
          "data": {
            "text/plain": [
              "[3,\n",
              " 4,\n",
              " 17,\n",
              " 19,\n",
              " 21,\n",
              " 22,\n",
              " 29,\n",
              " 30,\n",
              " 33,\n",
              " 35,\n",
              " 36,\n",
              " 38,\n",
              " 40,\n",
              " 41,\n",
              " 46,\n",
              " 52,\n",
              " 53,\n",
              " 60,\n",
              " 70,\n",
              " 73,\n",
              " 75,\n",
              " 88,\n",
              " 91,\n",
              " 93,\n",
              " 94,\n",
              " 96,\n",
              " 99]"
            ]
          },
          "metadata": {
            "tags": []
          },
          "execution_count": 132
        }
      ]
    },
    {
      "cell_type": "code",
      "metadata": {
        "id": "yg6UmNM4xN9f",
        "colab_type": "code",
        "colab": {
          "base_uri": "https://localhost:8080/",
          "height": 105
        },
        "outputId": "e40aa09a-2dcd-417e-fb36-6ae5721a1735"
      },
      "source": [
        "never=[94, 3, 35, 99, 52]\n",
        "for n in never:\n",
        "  print(id_dict[n])"
      ],
      "execution_count": null,
      "outputs": [
        {
          "output_type": "stream",
          "text": [
            "\\circ\n",
            "0\n",
            "U\n",
            "\\circledcirc\n",
            "\\Im\n"
          ],
          "name": "stdout"
        }
      ]
    },
    {
      "cell_type": "code",
      "metadata": {
        "id": "4r6QQTgcwyIU",
        "colab_type": "code",
        "colab": {}
      },
      "source": [
        "def setdiff_sorted(array1,array2,assume_unique=False):\n",
        "    ans = np.setdiff1d(array1,array2,assume_unique).tolist()\n",
        "    if assume_unique:\n",
        "        return sorted(ans)\n",
        "    return ans"
      ],
      "execution_count": null,
      "outputs": []
    },
    {
      "cell_type": "code",
      "metadata": {
        "id": "f-6eiJRRsI8T",
        "colab_type": "code",
        "colab": {
          "base_uri": "https://localhost:8080/",
          "height": 52
        },
        "outputId": "94b64873-cacc-4c66-f8cb-9a589b6f4371"
      },
      "source": [
        "np.setdiff1d(set(incorr),correct)"
      ],
      "execution_count": null,
      "outputs": [
        {
          "output_type": "execute_result",
          "data": {
            "text/plain": [
              "array([{3, 4, 17, 19, 21, 22, 29, 30, 33, 35, 36, 38, 40, 41, 46, 52, 53, 60, 70, 73, 75, 88, 91, 93, 94, 96, 99}],\n",
              "      dtype=object)"
            ]
          },
          "metadata": {
            "tags": []
          },
          "execution_count": 131
        }
      ]
    },
    {
      "cell_type": "code",
      "metadata": {
        "id": "S4TAcsyvsExh",
        "colab_type": "code",
        "colab": {
          "base_uri": "https://localhost:8080/",
          "height": 34
        },
        "outputId": "f31b60ff-80d8-41f1-9a3e-5fce1db6aeea"
      },
      "source": [
        "len(incorr)"
      ],
      "execution_count": null,
      "outputs": [
        {
          "output_type": "execute_result",
          "data": {
            "text/plain": [
              "27"
            ]
          },
          "metadata": {
            "tags": []
          },
          "execution_count": 112
        }
      ]
    }
  ]
}